{
 "cells": [
  {
   "cell_type": "markdown",
   "id": "ba748ff6",
   "metadata": {},
   "source": [
    "__Bei dieser Untersuchung geht es darum festzustellen, ob die Gammastrahlung, die durch den Satelliten \"Compton Gamma-Ray Observatory (CGRO)\" aufgenommen wurde, eine konstante Emissonsrate hat.__"
   ]
  },
  {
   "cell_type": "code",
   "execution_count": 1,
   "id": "58943833",
   "metadata": {},
   "outputs": [],
   "source": [
    "import numpy as np \n",
    "import pandas as pd \n",
    "import scipy \n",
    "import matplotlib.pyplot as plt"
   ]
  },
  {
   "cell_type": "code",
   "execution_count": 2,
   "id": "44f61a76",
   "metadata": {},
   "outputs": [],
   "source": [
    "# Daten einlesen\n",
    "Daten = pd.read_csv(\"Daten Gammastrahlung.csv\")"
   ]
  },
  {
   "cell_type": "code",
   "execution_count": 3,
   "id": "f4364db8",
   "metadata": {},
   "outputs": [
    {
     "data": {
      "text/html": [
       "<div>\n",
       "<style scoped>\n",
       "    .dataframe tbody tr th:only-of-type {\n",
       "        vertical-align: middle;\n",
       "    }\n",
       "\n",
       "    .dataframe tbody tr th {\n",
       "        vertical-align: top;\n",
       "    }\n",
       "\n",
       "    .dataframe thead th {\n",
       "        text-align: right;\n",
       "    }\n",
       "</style>\n",
       "<table border=\"1\" class=\"dataframe\">\n",
       "  <thead>\n",
       "    <tr style=\"text-align: right;\">\n",
       "      <th></th>\n",
       "      <th>seconds</th>\n",
       "      <th>count</th>\n",
       "    </tr>\n",
       "  </thead>\n",
       "  <tbody>\n",
       "    <tr>\n",
       "      <th>0</th>\n",
       "      <td>116.0</td>\n",
       "      <td>0.0</td>\n",
       "    </tr>\n",
       "    <tr>\n",
       "      <th>1</th>\n",
       "      <td>112.0</td>\n",
       "      <td>0.0</td>\n",
       "    </tr>\n",
       "    <tr>\n",
       "      <th>2</th>\n",
       "      <td>160.0</td>\n",
       "      <td>0.0</td>\n",
       "    </tr>\n",
       "    <tr>\n",
       "      <th>3</th>\n",
       "      <td>51.5</td>\n",
       "      <td>0.0</td>\n",
       "    </tr>\n",
       "    <tr>\n",
       "      <th>4</th>\n",
       "      <td>102.0</td>\n",
       "      <td>1.0</td>\n",
       "    </tr>\n",
       "  </tbody>\n",
       "</table>\n",
       "</div>"
      ],
      "text/plain": [
       "   seconds  count\n",
       "0    116.0    0.0\n",
       "1    112.0    0.0\n",
       "2    160.0    0.0\n",
       "3     51.5    0.0\n",
       "4    102.0    1.0"
      ]
     },
     "execution_count": 3,
     "metadata": {},
     "output_type": "execute_result"
    }
   ],
   "source": [
    "Daten.head()"
   ]
  },
  {
   "cell_type": "code",
   "execution_count": 4,
   "id": "ba04b8c7",
   "metadata": {},
   "outputs": [],
   "source": [
    "Daten.rename(columns={\"seconds\": \"Sekunden [t_i]\", \"count\": \"Anzahl [S_i]\"}, inplace=True)"
   ]
  },
  {
   "cell_type": "code",
   "execution_count": 5,
   "id": "c9427bb3",
   "metadata": {},
   "outputs": [
    {
     "data": {
      "text/html": [
       "<div>\n",
       "<style scoped>\n",
       "    .dataframe tbody tr th:only-of-type {\n",
       "        vertical-align: middle;\n",
       "    }\n",
       "\n",
       "    .dataframe tbody tr th {\n",
       "        vertical-align: top;\n",
       "    }\n",
       "\n",
       "    .dataframe thead th {\n",
       "        text-align: right;\n",
       "    }\n",
       "</style>\n",
       "<table border=\"1\" class=\"dataframe\">\n",
       "  <thead>\n",
       "    <tr style=\"text-align: right;\">\n",
       "      <th></th>\n",
       "      <th>Sekunden [t_i]</th>\n",
       "      <th>Anzahl [S_i]</th>\n",
       "    </tr>\n",
       "  </thead>\n",
       "  <tbody>\n",
       "    <tr>\n",
       "      <th>0</th>\n",
       "      <td>116.0</td>\n",
       "      <td>0.0</td>\n",
       "    </tr>\n",
       "    <tr>\n",
       "      <th>1</th>\n",
       "      <td>112.0</td>\n",
       "      <td>0.0</td>\n",
       "    </tr>\n",
       "  </tbody>\n",
       "</table>\n",
       "</div>"
      ],
      "text/plain": [
       "   Sekunden [t_i]  Anzahl [S_i]\n",
       "0           116.0           0.0\n",
       "1           112.0           0.0"
      ]
     },
     "execution_count": 5,
     "metadata": {},
     "output_type": "execute_result"
    }
   ],
   "source": [
    "Daten.head(2)"
   ]
  },
  {
   "cell_type": "code",
   "execution_count": 6,
   "id": "0b90efc8",
   "metadata": {},
   "outputs": [
    {
     "data": {
      "text/plain": [
       "(100, 2)"
      ]
     },
     "execution_count": 6,
     "metadata": {},
     "output_type": "execute_result"
    }
   ],
   "source": [
    "Daten.shape"
   ]
  },
  {
   "cell_type": "markdown",
   "id": "be24f383",
   "metadata": {},
   "source": [
    "Da die Anzahl der auftrettenden Gammastrahlungen nur ganzzahlige Werte annehmen kann, eignen sich diskrete Verteilungen zum Beschreiben der Daten. Im konkreten Fall scheint die [Poisson-Verteilung](https://de.wikipedia.org/wiki/Poisson-Verteilung) aufgrund der Problemstellung geeigent."
   ]
  },
  {
   "cell_type": "markdown",
   "id": "44ac10dc",
   "metadata": {},
   "source": [
    "__Poisson-Verteilung:__  <br>\n",
    "<br>\n",
    " $P_{\\lambda}(k) = \\frac{\\lambda^k}{k!} \\cdot e^{-\\lambda}$  <br>\n",
    " <br>\n",
    " mit k=$N_0$ und ${\\lambda}$>0"
   ]
  },
  {
   "cell_type": "markdown",
   "id": "6006a892",
   "metadata": {},
   "source": [
    "__Als Beschreibung:__<br>\n",
    "$S_i$~Poisson(${\\lambda}_i \\cdot {t}_i$) = Anzahl der Gammastrahlen im i-ten Zeitintervall<br>\n",
    "${\\lambda}_i$ = Durchschnittliche Anzahl der Gammastrahlen im i-ten Zeitintervall <br>\n",
    "$t_i$ = Dauer in Sekunden des i-ten Zeitintervalls<br>\n",
    "i = i-te Zeitintervall"
   ]
  },
  {
   "cell_type": "markdown",
   "id": "3bb8f510",
   "metadata": {},
   "source": [
    "Im Grunde geht es bei der Untersuchung darum festzustellen, ob $H_0:{\\lambda}_0={\\lambda}_1=...={\\lambda}_{99}$ bzw. \n",
    "$H_A:{\\lambda}_i ≠ {\\lambda}_j $ für ein beliebiges i und j gilt."
   ]
  },
  {
   "cell_type": "markdown",
   "id": "036bd725",
   "metadata": {},
   "source": [
    "Lambda wird über die __Maximum-Likelihood-Methode__ bestimmt: <br>\n",
    "\n",
    "$f(S_0,S_1,...,S_{99}|{\\lambda})=\\prod_{i=0}^{99} \\frac{(\\lambda\\cdot t_i)^{S_i}}{S_i!} \\cdot e^{-\\lambda \\cdot t_i}$ <br>\n",
    "\n",
    "$\\ln(f)=\\ln(\\prod_{i=0}^{99} \\frac{(\\lambda\\cdot t_i)^{S_i}}{S_i!} \\cdot e^{-\\lambda \\cdot t_i})$ \n",
    "$=-{\\lambda}\\sum_{i=0}^{99} t_i + \\ln(\\lambda)\\sum_{i=0}^{99} S_i + \\sum_{i=0}^{99}\\ln(S_i) - \\sum_{i=0}^{99}ln(S_i!)$ <br>\n",
    "\n",
    "$\\underset{\\lambda}{\\operatorname{argmax}} \\ln(f): 0=ln(f) \\frac{d}{d\\lambda}= -\\sum_{i=0}^{99} t_i+\\sum_{i=0}^{99} \\frac{S_i}{\\lambda}$ <br>\n",
    "\n",
    "$⇒\\hat{\\lambda}= \\frac{\\sum_{i=0}^{99}S_i}{\\sum_{i=0}^{99}t_i}$ bzw. $\\hat{\\lambda}_i= \\frac{S_i}{t_i}$"
   ]
  },
  {
   "cell_type": "code",
   "execution_count": 7,
   "id": "ba5729b8",
   "metadata": {},
   "outputs": [
    {
     "name": "stdout",
     "output_type": "stream",
     "text": [
      "H0 = 0.0038808514969907496\n",
      "HA = 0     0.000000\n",
      "1     0.000000\n",
      "2     0.000000\n",
      "3     0.000000\n",
      "4     0.009804\n",
      "        ...   \n",
      "95    0.025840\n",
      "96    0.000000\n",
      "97    0.000000\n",
      "98    0.000000\n",
      "99    0.000000\n",
      "Length: 100, dtype: float64\n"
     ]
    }
   ],
   "source": [
    "# Berechnung nach der Maximum-Likelihood-Methode\n",
    "H0_lambda_hat = Daten['Anzahl [S_i]'].sum()/Daten['Sekunden [t_i]'].sum()\n",
    "HA_lambda_hats = Daten['Anzahl [S_i]']/Daten['Sekunden [t_i]']\n",
    "print(\"H0 = {}\".format(H0_lambda_hat))\n",
    "print(\"HA = {}\".format(HA_lambda_hats))"
   ]
  },
  {
   "cell_type": "markdown",
   "id": "6a8c17b0",
   "metadata": {},
   "source": [
    "Zum Testen der Teststatistik verwende ich den __Likelikhood-Ratio-Test__:<br>\n",
    "${\\Lambda}(x)=-2\\ln(\\frac{maxf(S_0,S_1,..,S99|\\lambda)}{maxf(S_0,S_1,..,S99|\\lambda_0,...,\\lambda_{99})})$<br><br>\n",
    "Dieser folgt einer Chi-Quadrat-Verteilung mit ${\\chi}^2_{99}$. Für den Fehler erster Art wird ${\\alpha}=5\\%$ angesetzt."
   ]
  },
  {
   "cell_type": "code",
   "execution_count": 8,
   "id": "7941d248",
   "metadata": {},
   "outputs": [
    {
     "data": {
      "image/png": "[encoded data removed]",
      "text/plain": [
       "<Figure size 640x480 with 1 Axes>"
      ]
     },
     "metadata": {},
     "output_type": "display_data"
    }
   ],
   "source": [
    "# Chi-Quadrat-Verteilung für 99 Freiheitsgrade\n",
    "X = np.arange(50,150,0.1)\n",
    "plt.plot(X, scipy.stats.chi2.pdf(X, 99))\n",
    "plt.show()"
   ]
  },
  {
   "cell_type": "code",
   "execution_count": 9,
   "id": "470bad16",
   "metadata": {},
   "outputs": [
    {
     "data": {
      "text/plain": [
       "123.22522145336181"
      ]
     },
     "execution_count": 9,
     "metadata": {},
     "output_type": "execute_result"
    }
   ],
   "source": [
    "# Der Zahlenwert der Teststatistik für die Chi-Quadrat-Verteilung mit 99 Freiheitsgraden und Alpha 5%.\n",
    "Teststatistik=scipy.stats.chi2.isf(0.05, 99)\n",
    "Teststatistik"
   ]
  },
  {
   "cell_type": "code",
   "execution_count": 10,
   "id": "8055053b",
   "metadata": {},
   "outputs": [],
   "source": [
    "def H0_likelihood(lamb):\n",
    "    # Die Likelihood-Funktion ist das Produkt der Poisson-Verteilungen. Für H0 hat jede Poisson-Verteilung denselben Mittelwert\n",
    "    return scipy.stats.poisson.pmf(Daten['Anzahl [S_i]'], Daten['Sekunden [t_i]']*lamb).prod(axis=0)\n",
    "\n",
    "def HA_likelihood(lambs):\n",
    "    # Für HA sind die Mittelwerte der Poisson-Verteilung durch die Lambdas gegeben.\n",
    "    return scipy.stats.poisson.pmf(Daten['Anzahl [S_i]'], Daten['Sekunden [t_i]']*lambs).prod(axis=0)"
   ]
  },
  {
   "cell_type": "code",
   "execution_count": 11,
   "id": "9a833122",
   "metadata": {},
   "outputs": [
    {
     "data": {
      "text/plain": [
       "104.39792133021314"
      ]
     },
     "execution_count": 11,
     "metadata": {},
     "output_type": "execute_result"
    }
   ],
   "source": [
    "# Der Wert der Teststatistik der observierten Daten\n",
    "Teststatistik_observiert = -2*np.log(H0_likelihood(H0_lambda_hat)/HA_likelihood(HA_lambda_hats))\n",
    "Teststatistik_observiert"
   ]
  },
  {
   "cell_type": "code",
   "execution_count": 12,
   "id": "54658710",
   "metadata": {},
   "outputs": [
    {
     "data": {
      "text/plain": [
       "0.33576662402509894"
      ]
     },
     "execution_count": 12,
     "metadata": {},
     "output_type": "execute_result"
    }
   ],
   "source": [
    "# Der p-Wert der observierten Daten\n",
    "p_Wert = scipy.stats.chi2.sf(Teststatistik_observiert, 99)\n",
    "p_Wert"
   ]
  },
  {
   "cell_type": "code",
   "execution_count": 13,
   "id": "a8f00ca4",
   "metadata": {},
   "outputs": [
    {
     "name": "stdout",
     "output_type": "stream",
     "text": [
      "Teststatistik: 123.23, Teststatistik_observiert: 104.40\n",
      "Aplha: 0.05, p_Wert:0.34\n"
     ]
    }
   ],
   "source": [
    "print(f\"Teststatistik: {Teststatistik:.2f}, Teststatistik_observiert: {Teststatistik_observiert:.2f}\")\n",
    "print(f\"Aplha: 0.05, p_Wert:{p_Wert:.2f}\")"
   ]
  },
  {
   "cell_type": "markdown",
   "id": "f97d08fa",
   "metadata": {},
   "source": [
    "__Fazit__: H0 kann nicht verworfen werden. Die detektierte Emmissionsrate scheint konstant zu sein."
   ]
  },
  {
   "cell_type": "code",
   "execution_count": 14,
   "id": "f79e96a4",
   "metadata": {},
   "outputs": [
    {
     "data": {
      "image/png": "[encoded data removed]",
      "text/plain": [
       "<Figure size 640x480 with 1 Axes>"
      ]
     },
     "metadata": {},
     "output_type": "display_data"
    }
   ],
   "source": [
    "# Visualisierung der Chi-Quadrat-Verteilung und der p-Werte\n",
    "Freiheitsgrade = 99\n",
    "significance_level = 0.05\n",
    "plt.plot(X, scipy.stats.chi2.pdf(X, Freiheitsgrade))\n",
    "plt.vlines(Teststatistik_observiert, 0, scipy.stats.chi2.pdf(Teststatistik_observiert, Freiheitsgrade), colors='g', label='Teststatistik_observiert={:.3f}'.format(Teststatistik_observiert))\n",
    "plt.fill_between(X, scipy.stats.chi2.pdf(X, Freiheitsgrade), where=X>=Teststatistik, color='red', label='Ablehnungsgebiet (level={})'.format(significance_level))\n",
    "plt.title(f'Chi-Quadrat-Verteilung mit {Freiheitsgrade} Freiheitsgraden \\n p-Wert = {p_Wert:.3f}')\n",
    "\n",
    "plt.legend(loc='upper right',  prop={'size': 8})\n",
    "plt.grid()\n",
    "plt.show()"
   ]
  },
  {
   "cell_type": "code",
   "execution_count": null,
   "id": "5a7964fa",
   "metadata": {},
   "outputs": [],
   "source": []
  }
 ],
 "metadata": {
  "kernelspec": {
   "display_name": "Python 3 (ipykernel)",
   "language": "python",
   "name": "python3"
  },
  "language_info": {
   "codemirror_mode": {
    "name": "ipython",
    "version": 3
   },
   "file_extension": ".py",
   "mimetype": "text/x-python",
   "name": "python",
   "nbconvert_exporter": "python",
   "pygments_lexer": "ipython3",
   "version": "3.9.13"
  }
 },
 "nbformat": 4,
 "nbformat_minor": 5
}
